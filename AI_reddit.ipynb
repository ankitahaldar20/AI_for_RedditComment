{
 "cells": [
  {
   "cell_type": "code",
   "execution_count": null,
   "metadata": {},
   "outputs": [],
   "source": [
    "# To interact with the Reddit API and fetch comments, posts, and user data."
   ]
  },
  {
   "cell_type": "code",
   "execution_count": 1,
   "metadata": {},
   "outputs": [
    {
     "name": "stdout",
     "output_type": "stream",
     "text": [
      "Requirement already satisfied: praw in c:\\users\\dell\\anaconda3\\new folder\\anaconda\\lib\\site-packages (7.7.1)\n",
      "Requirement already satisfied: prawcore<3,>=2.1 in c:\\users\\dell\\anaconda3\\new folder\\anaconda\\lib\\site-packages (from praw) (2.4.0)\n",
      "Requirement already satisfied: update-checker>=0.18 in c:\\users\\dell\\anaconda3\\new folder\\anaconda\\lib\\site-packages (from praw) (0.18.0)\n",
      "Requirement already satisfied: websocket-client>=0.54.0 in c:\\users\\dell\\anaconda3\\new folder\\anaconda\\lib\\site-packages (from praw) (0.58.0)\n",
      "Requirement already satisfied: requests<3.0,>=2.6.0 in c:\\users\\dell\\anaconda3\\new folder\\anaconda\\lib\\site-packages (from prawcore<3,>=2.1->praw) (2.31.0)\n",
      "Requirement already satisfied: six in c:\\users\\dell\\anaconda3\\new folder\\anaconda\\lib\\site-packages (from websocket-client>=0.54.0->praw) (1.16.0)\n",
      "Requirement already satisfied: charset-normalizer<4,>=2 in c:\\users\\dell\\anaconda3\\new folder\\anaconda\\lib\\site-packages (from requests<3.0,>=2.6.0->prawcore<3,>=2.1->praw) (2.0.4)\n",
      "Requirement already satisfied: idna<4,>=2.5 in c:\\users\\dell\\anaconda3\\new folder\\anaconda\\lib\\site-packages (from requests<3.0,>=2.6.0->prawcore<3,>=2.1->praw) (3.4)\n",
      "Requirement already satisfied: urllib3<3,>=1.21.1 in c:\\users\\dell\\anaconda3\\new folder\\anaconda\\lib\\site-packages (from requests<3.0,>=2.6.0->prawcore<3,>=2.1->praw) (1.26.16)\n",
      "Requirement already satisfied: certifi>=2017.4.17 in c:\\users\\dell\\anaconda3\\new folder\\anaconda\\lib\\site-packages (from requests<3.0,>=2.6.0->prawcore<3,>=2.1->praw) (2024.7.4)\n",
      "Note: you may need to restart the kernel to use updated packages.\n"
     ]
    }
   ],
   "source": [
    "pip install praw"
   ]
  },
  {
   "cell_type": "code",
   "execution_count": 2,
   "metadata": {},
   "outputs": [],
   "source": [
    "# To utilize OpenAI's models (like GPT-3) for generating text-based responses."
   ]
  },
  {
   "cell_type": "code",
   "execution_count": 3,
   "metadata": {},
   "outputs": [
    {
     "name": "stdout",
     "output_type": "stream",
     "text": [
      "Requirement already satisfied: openai in c:\\users\\dell\\anaconda3\\new folder\\anaconda\\lib\\site-packages (1.52.0)\n",
      "Requirement already satisfied: anyio<5,>=3.5.0 in c:\\users\\dell\\anaconda3\\new folder\\anaconda\\lib\\site-packages (from openai) (3.5.0)\n",
      "Requirement already satisfied: distro<2,>=1.7.0 in c:\\users\\dell\\anaconda3\\new folder\\anaconda\\lib\\site-packages (from openai) (1.9.0)\n",
      "Requirement already satisfied: httpx<1,>=0.23.0 in c:\\users\\dell\\anaconda3\\new folder\\anaconda\\lib\\site-packages (from openai) (0.27.2)\n",
      "Requirement already satisfied: jiter<1,>=0.4.0 in c:\\users\\dell\\anaconda3\\new folder\\anaconda\\lib\\site-packages (from openai) (0.6.1)\n",
      "Requirement already satisfied: pydantic<3,>=1.9.0 in c:\\users\\dell\\anaconda3\\new folder\\anaconda\\lib\\site-packages (from openai) (1.10.8)\n",
      "Requirement already satisfied: sniffio in c:\\users\\dell\\anaconda3\\new folder\\anaconda\\lib\\site-packages (from openai) (1.2.0)\n",
      "Requirement already satisfied: tqdm>4 in c:\\users\\dell\\anaconda3\\new folder\\anaconda\\lib\\site-packages (from openai) (4.65.0)\n",
      "Requirement already satisfied: typing-extensions<5,>=4.11 in c:\\users\\dell\\anaconda3\\new folder\\anaconda\\lib\\site-packages (from openai) (4.12.2)\n",
      "Requirement already satisfied: idna>=2.8 in c:\\users\\dell\\anaconda3\\new folder\\anaconda\\lib\\site-packages (from anyio<5,>=3.5.0->openai) (3.4)\n",
      "Requirement already satisfied: certifi in c:\\users\\dell\\anaconda3\\new folder\\anaconda\\lib\\site-packages (from httpx<1,>=0.23.0->openai) (2024.7.4)\n",
      "Requirement already satisfied: httpcore==1.* in c:\\users\\dell\\anaconda3\\new folder\\anaconda\\lib\\site-packages (from httpx<1,>=0.23.0->openai) (1.0.6)\n",
      "Requirement already satisfied: h11<0.15,>=0.13 in c:\\users\\dell\\anaconda3\\new folder\\anaconda\\lib\\site-packages (from httpcore==1.*->httpx<1,>=0.23.0->openai) (0.14.0)\n",
      "Requirement already satisfied: colorama in c:\\users\\dell\\anaconda3\\new folder\\anaconda\\lib\\site-packages (from tqdm>4->openai) (0.4.6)\n",
      "Note: you may need to restart the kernel to use updated packages.\n"
     ]
    }
   ],
   "source": [
    "pip install openai"
   ]
  },
  {
   "cell_type": "code",
   "execution_count": null,
   "metadata": {},
   "outputs": [],
   "source": [
    "import praw\n",
    "import os\n",
    "import openai\n",
    "\n",
    "# Set up Reddit API with PRAW\n",
    "reddit = praw.Reddit(\n",
    "    client_id='YOUR_REDDIT_CLIENT_ID',       # Replace this with your actual Client ID\n",
    "    client_secret='YOUR_REDDIT_CLIENT_SECRET', # Replace this with your actual Client Secret\n",
    "    user_agent='YOUR_USER_AGENT',             # A description of your bot, e.g., 'Reddit AI bot'\n",
    "    username='YOUR_REDDIT_USERNAME',          # Your Reddit username\n",
    "    password='YOUR_REDDIT_PASSWORD'           # Your Reddit password\n",
    ")\n",
    "\n",
    "# Fetch the submission (thread) using its ID\n",
    "submission = reddit.submission(id='Comment_ID')  # Use the post ID from your URL\n",
    "\n",
    "# Ensure to fetch the comments\n",
    "submission.comments.replace_more(limit=None)  # Fetch all comments\n",
    "\n",
    "# Print comment IDs and bodies\n",
    "for comment in submission.comments.list():\n",
    "    print(f\"Comment ID: {comment.id} | Comment Body: {comment.body}\")\n",
    "# Set up OpenAI API key\n",
    "openai.api_key = os.getenv('OPENAI_API_KEY')\n",
    "\n",
    "# Fetch the submission (thread) using its ID\n",
    "submission = reddit.submission(id='Comment_ID')  # Use the post ID from your URL\n",
    "\n",
    "# Ensure to fetch the comments\n",
    "submission.comments.replace_more(limit=None)  # Fetch all comments\n",
    "\n",
    "# Print comment IDs and bodies\n",
    "for comment in submission.comments.list():\n",
    "    print(f\"Comment ID: {comment.id} | Comment Body: {comment.body}\")\n",
    "\n",
    "# Function to generate response using OpenAI GPT\n",
    "def generate_response(comment_text):\n",
    "    try:\n",
    "        response = openai.Completion.create(\n",
    "            engine=\"text-davinci-003\",  # GPT model\n",
    "            prompt=f\"A Reddit user commented: '{comment_text}'. Generate a helpfcul and insightful response to engage with them:\",\n",
    "            max_tokens=100,\n",
    "            n=1,\n",
    "            stop=None,\n",
    "            temperature=0.7\n",
    "        )\n",
    "        return response.choices[0].text.strip()\n",
    "    except Exception as e:\n",
    "        print(f\"Error generating response: {e}\")\n",
    "        return None\n",
    "\n",
    "# Function to recommend a product based on keywords in comment\n",
    "def recommend_product(comment_text):\n",
    "    if \"facial recognition\" in comment_text.lower():\n",
    "        return \"I recommend trying [Product Name], a powerful face recognition tool! You can check it out here: [Product Link]\"\n",
    "    else:\n",
    "        return None\n",
    "\n",
    "# Function to upvote or engage with insightful comments\n",
    "def boost_engagement(comment):\n",
    "    if comment.score > 10:  # Arbitrary threshold for upvoting\n",
    "        comment.upvote()\n",
    "        print(f\"Upvoted comment with {comment.score} karma: {comment.body}\")\n",
    "\n",
    "# Monitor specific subreddit\n",
    "def monitor_subreddit(subreddit_name):\n",
    "    subreddit = reddit.subreddit(subreddit_name)\n",
    "    \n",
    "    for comment in subreddit.stream.comments(skip_existing=True):  # Streaming new comments\n",
    "        print(f\"New comment: {comment.body}\")\n",
    "        \n",
    "        # Generate response using GPT\n",
    "        response = generate_response(comment.body)\n",
    "        if response:\n",
    "            comment.reply(response)\n",
    "            print(f\"Replied to comment: {response}\")\n",
    "        \n",
    "        # Promote a product if relevant\n",
    "        product_promotion = recommend_product(comment.body)\n",
    "        if product_promotion:\n",
    "            comment.reply(product_promotion)\n",
    "            print(f\"Promoted product: {product_promotion}\")\n",
    "        \n",
    "        # Boost engagement by upvoting high-quality comments\n",
    "        boost_engagement(comment)\n",
    "\n",
    "if __name__ == \"__main__\":\n",
    "    # Start monitoring a subreddit (e.g., \"technology\")\n",
    "    monitor_subreddit(\"technology\")"
   ]
  }
 ],
 "metadata": {
  "kernelspec": {
   "display_name": "Python 3",
   "language": "python",
   "name": "python3"
  },
  "language_info": {
   "codemirror_mode": {
    "name": "ipython",
    "version": 3
   },
   "file_extension": ".py",
   "mimetype": "text/x-python",
   "name": "python",
   "nbconvert_exporter": "python",
   "pygments_lexer": "ipython3",
   "version": "3.11.5"
  }
 },
 "nbformat": 4,
 "nbformat_minor": 2
}
